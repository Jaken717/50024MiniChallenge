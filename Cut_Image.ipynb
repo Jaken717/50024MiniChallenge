{
 "cells": [
  {
   "cell_type": "code",
   "execution_count": 1,
   "metadata": {},
   "outputs": [],
   "source": [
    "import cv2\n",
    "import os\n",
    "from PIL import Image, ImageSequence\n",
    "import numpy as np"
   ]
  },
  {
   "cell_type": "code",
   "execution_count": 2,
   "metadata": {},
   "outputs": [],
   "source": [
    "def process_gif_image_greyscale(gif_path):\n",
    "    with Image.open(gif_path) as img:\n",
    "        frame = ImageSequence.Iterator(img)[0]\n",
    "        frame = frame.convert('L')  # Convert to grayscale\n",
    "        open_cv_image = np.array(frame) \n",
    "        return open_cv_image\n",
    "    \n",
    "def detect_and_save_faces(image_path, cascade, output_folder):\n",
    "    # Check if the image is a GIF\n",
    "    if image_path.lower().endswith('.gif'):\n",
    "        image = process_gif_image_greyscale(image_path)\n",
    "    else:\n",
    "        # Read the image normally\n",
    "        image = cv2.imread(image_path)\n",
    "\n",
    "    # If the image is not loaded, create a white image\n",
    "    if image is None:\n",
    "        print(f\"Failed to load image: {image_path}. Creating a white image.\")\n",
    "        white_image = np.ones((450, 450, 3), dtype=np.uint8) * 255\n",
    "        white_image_filename = os.path.join(output_folder, f'{os.path.basename(image_path)}')\n",
    "        cv2.imwrite(white_image_filename, white_image)\n",
    "        return  # Skip this image and return early\n",
    "\n",
    "    gray = cv2.cvtColor(image, cv2.COLOR_BGR2GRAY)\n",
    "\n",
    "    # Detect faces\n",
    "    faces = cascade.detectMultiScale(gray, scaleFactor=1.1, minNeighbors=5, minSize=(30, 30))\n",
    "\n",
    "    # Crop and save faces\n",
    "    for i, (x, y, w, h) in enumerate(faces):\n",
    "        face = image[y:y+h, x:x+w]\n",
    "        face_filename = os.path.join(output_folder, f'{os.path.basename(image_path)}')\n",
    "        cv2.imwrite(face_filename, face)\n",
    "\n"
   ]
  },
  {
   "cell_type": "code",
   "execution_count": 3,
   "metadata": {},
   "outputs": [],
   "source": [
    "# image_path = r\"C:\\Users\\JKLiu\\OneDrive\\Desktop\\Spring2024\\ECE50024\\Challenge\\train_small\\train_small\\1.jpg\"\n",
    "# output_folder = r\"C:\\Users\\JKLiu\\OneDrive\\Desktop\\Spring2024\\ECE50024\\Challenge\\cutted_train_small\"\n",
    "\n",
    "# cascade = cv2.CascadeClassifier(cv2.data.haarcascades + 'haarcascade_frontalface_default.xml')\n",
    "\n",
    "# detect_and_save_faces(image_path= image_path, cascade= cascade, output_folder=output_folder)\n",
    "def process_folder(folder_path, output_folder):\n",
    "    # Load the pre-trained Haar Cascade model\n",
    "    cascade = cv2.CascadeClassifier(cv2.data.haarcascades + 'haarcascade_frontalface_default.xml')\n",
    "\n",
    "    # Ensure output directory exists\n",
    "    if not os.path.exists(output_folder):\n",
    "        os.makedirs(output_folder)\n",
    "\n",
    "    # Process each image in the folder\n",
    "    for filename in os.listdir(folder_path):\n",
    "        if filename.lower().endswith(('.png', '.jpg', '.jpeg')):\n",
    "            detect_and_save_faces(os.path.join(folder_path, filename), cascade, output_folder)"
   ]
  },
  {
   "cell_type": "code",
   "execution_count": 5,
   "metadata": {},
   "outputs": [],
   "source": [
    "output_folder = r\"D:\\Challenge\\cutted_grascale\"\n",
    "input_folder = r\"D:\\Challenge\\grayscale_train\"\n",
    "\n",
    "process_folder(folder_path= input_folder, output_folder= output_folder)\n"
   ]
  },
  {
   "cell_type": "code",
   "execution_count": null,
   "metadata": {},
   "outputs": [],
   "source": []
  }
 ],
 "metadata": {
  "kernelspec": {
   "display_name": "Python 3",
   "language": "python",
   "name": "python3"
  },
  "language_info": {
   "codemirror_mode": {
    "name": "ipython",
    "version": 3
   },
   "file_extension": ".py",
   "mimetype": "text/x-python",
   "name": "python",
   "nbconvert_exporter": "python",
   "pygments_lexer": "ipython3",
   "version": "3.11.3"
  }
 },
 "nbformat": 4,
 "nbformat_minor": 2
}
