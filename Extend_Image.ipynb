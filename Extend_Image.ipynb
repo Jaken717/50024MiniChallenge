{
 "cells": [
  {
   "cell_type": "code",
   "execution_count": 1,
   "metadata": {},
   "outputs": [],
   "source": [
    "import cv2\n",
    "import os"
   ]
  },
  {
   "cell_type": "code",
   "execution_count": 2,
   "metadata": {},
   "outputs": [],
   "source": [
    "def ensure_folder_exists(folder):\n",
    "    if not os.path.exists(folder):\n",
    "        os.makedirs(folder)\n",
    "\n",
    "def find_largest_image(folder_path):\n",
    "    max_size = 0\n",
    "    largest_file = None\n",
    "    \n",
    "    # Find the largest image\n",
    "    for filename in os.listdir(folder_path):\n",
    "        if filename.lower().endswith(('.png', '.jpg', '.jpeg')):\n",
    "            file_path = os.path.join(folder_path, filename)\n",
    "            image = cv2.imread(file_path)\n",
    "            if image is not None:\n",
    "                h, w, _ = image.shape\n",
    "                if h*w > max_size:\n",
    "                    max_size = h*w\n",
    "                    largest_file = file_path\n",
    "    \n",
    "    return largest_file"
   ]
  },
  {
   "cell_type": "code",
   "execution_count": 3,
   "metadata": {},
   "outputs": [],
   "source": [
    "def resize_images_to_largest(input_folder, output_folder):\n",
    "    # Ensure the output folder exists\n",
    "    ensure_folder_exists(output_folder)\n",
    "\n",
    "    # Get the size of the largest image\n",
    "    # largest_image = cv2.imread(largest_file)\n",
    "    # largest_height, largest_width, _ = largest_image.shape\n",
    "\n",
    "    # Resize all images in the input folder\n",
    "    for filename in os.listdir(input_folder):\n",
    "        input_file_path = os.path.join(input_folder, filename)\n",
    "        # if input_file_path == largest_file:\n",
    "        #     continue  # Skip the largest file, as it's already the correct size\n",
    "        if filename.lower().endswith(('.png', '.jpg', '.jpeg')):\n",
    "            image = cv2.imread(input_file_path)\n",
    "            if image is not None:\n",
    "                # Resize the image to the size of the largest image\n",
    "                resized_image = cv2.resize(image, (450, 450), interpolation=cv2.INTER_AREA)\n",
    "                # Save the resized image to the output folder\n",
    "                output_file_path = os.path.join(output_folder, filename)\n",
    "                cv2.imwrite(output_file_path, resized_image)"
   ]
  },
  {
   "cell_type": "code",
   "execution_count": 5,
   "metadata": {},
   "outputs": [],
   "source": [
    "# Define the input folder containing the images\n",
    "input_folder = r\"D:\\Challenge\\cutted_grascale\"\n",
    "# Define the output folder to save resized images\n",
    "output_folder = r\"D:\\Challenge\\resized_grayscale\"\n",
    "\n",
    "# Find the largest image file in the input folder\n",
    "# largest_file = find_largest_image(input_folder)\n",
    "# largest_image = cv2.imread(largest_file)\n",
    "# largest_height, largest_width, _ = largest_image.shape\n",
    "# print(\"width:\",largest_width)\n",
    "# print(\"height:\",largest_height)\n",
    "\n",
    "# Resize all images in the input folder and save them to the output folder\n",
    "resize_images_to_largest(input_folder, output_folder)"
   ]
  },
  {
   "cell_type": "code",
   "execution_count": null,
   "metadata": {},
   "outputs": [],
   "source": []
  }
 ],
 "metadata": {
  "kernelspec": {
   "display_name": "Python 3",
   "language": "python",
   "name": "python3"
  },
  "language_info": {
   "codemirror_mode": {
    "name": "ipython",
    "version": 3
   },
   "file_extension": ".py",
   "mimetype": "text/x-python",
   "name": "python",
   "nbconvert_exporter": "python",
   "pygments_lexer": "ipython3",
   "version": "3.11.3"
  }
 },
 "nbformat": 4,
 "nbformat_minor": 2
}
