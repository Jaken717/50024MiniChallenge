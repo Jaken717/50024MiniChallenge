{
 "cells": [
  {
   "cell_type": "code",
   "execution_count": 5,
   "metadata": {},
   "outputs": [],
   "source": [
    "import os\n",
    "import shutil\n",
    "\n",
    "def distribute_images(source_folder, target_folder, num_folders=10):\n",
    "    # Ensure the source folder exists\n",
    "    if not os.path.exists(source_folder):\n",
    "        raise ValueError(\"Source folder does not exist.\")\n",
    "\n",
    "    # Get all image files in the folder, assuming they have extensions like .jpg, .png, etc.\n",
    "    image_files = [f for f in os.listdir(source_folder) if f.split('.')[-1] in ['jpg', 'png', 'jpeg', 'gif', 'bmp']]\n",
    "\n",
    "    # Sort the files by their integer names\n",
    "    image_files.sort(key=lambda x: int(x.split('.')[0]))\n",
    "\n",
    "    # Create target folders if they don't exist\n",
    "    for i in range(num_folders):\n",
    "        os.makedirs(os.path.join(target_folder, f'subset_{i+1}'), exist_ok=True)\n",
    "\n",
    "    # Distribute the images\n",
    "    for index, file in enumerate(image_files):\n",
    "        # Determine which folder to put the image in\n",
    "        folder_index = index % num_folders\n",
    "        # Define source and destination paths\n",
    "        src = os.path.join(source_folder, file)\n",
    "        dst = os.path.join(target_folder, f'subset_{folder_index+1}', file)\n",
    "        # Move the file\n",
    "        shutil.move(src, dst)\n",
    "\n",
    "# Usage\n",
    "source_folder = r'D:\\Challenge\\resized_grayscale'  # Replace with your source folder path\n",
    "target_folder = r'D:\\Challenge\\resnet_grayscale'  # Replace with your target folder path\n",
    "distribute_images(source_folder, target_folder)\n"
   ]
  },
  {
   "cell_type": "markdown",
   "metadata": {},
   "source": []
  }
 ],
 "metadata": {
  "kernelspec": {
   "display_name": "Python 3",
   "language": "python",
   "name": "python3"
  },
  "language_info": {
   "codemirror_mode": {
    "name": "ipython",
    "version": 3
   },
   "file_extension": ".py",
   "mimetype": "text/x-python",
   "name": "python",
   "nbconvert_exporter": "python",
   "pygments_lexer": "ipython3",
   "version": "3.11.3"
  }
 },
 "nbformat": 4,
 "nbformat_minor": 2
}
