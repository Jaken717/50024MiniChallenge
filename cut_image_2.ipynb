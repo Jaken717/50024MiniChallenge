{
 "cells": [
  {
   "cell_type": "code",
   "execution_count": 10,
   "metadata": {},
   "outputs": [],
   "source": [
    "import cv2\n",
    "import os"
   ]
  },
  {
   "cell_type": "code",
   "execution_count": 11,
   "metadata": {},
   "outputs": [],
   "source": [
    "def detect_and_crop_faces(image_path, cascade):\n",
    "    \"\"\" Detect faces in an image and return a list of cropped faces \"\"\"\n",
    "    img = cv2.imread(image_path, cv2.IMREAD_GRAYSCALE)\n",
    "    faces = cascade.detectMultiScale(img, scaleFactor=1.1, minNeighbors=4)\n",
    "    cropped_faces = [img[y:y+h, x:x+w] for x, y, w, h in faces]\n",
    "    return cropped_faces"
   ]
  },
  {
   "cell_type": "code",
   "execution_count": 12,
   "metadata": {},
   "outputs": [],
   "source": [
    "def process_images(input_folder, output_folders):\n",
    "    \"\"\" Process all images in the input folder and save cropped faces to output folders \"\"\"\n",
    "    # Load Haar Cascade\n",
    "    face_cascade = cv2.CascadeClassifier(cv2.data.haarcascades + 'haarcascade_frontalface_default.xml')\n",
    "\n",
    "    # List all files in the input directory\n",
    "    image_files = [f for f in os.listdir(input_folder) if os.path.isfile(os.path.join(input_folder, f))]\n",
    "    \n",
    "    # Counters for folder distribution\n",
    "    folder_counters = [0] * len(output_folders)\n",
    "\n",
    "    # Process each file\n",
    "    for file_name in image_files:\n",
    "        image_path = os.path.join(input_folder, file_name)\n",
    "        cropped_faces = detect_and_crop_faces(image_path, face_cascade)\n",
    "\n",
    "        # Determine output folder based on current counts\n",
    "        folder_idx = folder_counters.index(min(folder_counters))\n",
    "        output_folder = output_folders[folder_idx]\n",
    "        folder_counters[folder_idx] += len(cropped_faces)\n",
    "\n",
    "        # Create output folder if it doesn't exist\n",
    "        if not os.path.exists(output_folder):\n",
    "            os.makedirs(output_folder)\n",
    "\n",
    "        # Save each face to the output folder\n",
    "        for face_id, face in enumerate(cropped_faces):\n",
    "            # Create a unique filename for each face\n",
    "            face_file = os.path.join(output_folder, f'{os.path.basename(image_path)}')\n",
    "            cv2.imwrite(face_file, face)"
   ]
  },
  {
   "cell_type": "code",
   "execution_count": 13,
   "metadata": {},
   "outputs": [
    {
     "ename": "KeyboardInterrupt",
     "evalue": "",
     "output_type": "error",
     "traceback": [
      "\u001b[1;31m---------------------------------------------------------------------------\u001b[0m",
      "\u001b[1;31mKeyboardInterrupt\u001b[0m                         Traceback (most recent call last)",
      "Cell \u001b[1;32mIn[13], line 4\u001b[0m\n\u001b[0;32m      1\u001b[0m input_folder \u001b[38;5;241m=\u001b[39m \u001b[38;5;124mr\u001b[39m\u001b[38;5;124m\"\u001b[39m\u001b[38;5;124mD:\u001b[39m\u001b[38;5;124m\\\u001b[39m\u001b[38;5;124mChallenge\u001b[39m\u001b[38;5;124m\\\u001b[39m\u001b[38;5;124mgrayscale_train\u001b[39m\u001b[38;5;124m\"\u001b[39m\n\u001b[0;32m      2\u001b[0m output_folders \u001b[38;5;241m=\u001b[39m [\u001b[38;5;124mf\u001b[39m\u001b[38;5;124m\"\u001b[39m\u001b[38;5;124mD:\u001b[39m\u001b[38;5;124m\\\u001b[39m\u001b[38;5;124mChallenge\u001b[39m\u001b[38;5;124m\\\u001b[39m\u001b[38;5;124msubset\u001b[39m\u001b[38;5;132;01m{\u001b[39;00mi\u001b[38;5;132;01m}\u001b[39;00m\u001b[38;5;124m\"\u001b[39m \u001b[38;5;28;01mfor\u001b[39;00m i \u001b[38;5;129;01min\u001b[39;00m \u001b[38;5;28mrange\u001b[39m(\u001b[38;5;241m10\u001b[39m)]\n\u001b[1;32m----> 4\u001b[0m \u001b[43mprocess_images\u001b[49m\u001b[43m(\u001b[49m\u001b[43minput_folder\u001b[49m\u001b[43m,\u001b[49m\u001b[43m \u001b[49m\u001b[43moutput_folders\u001b[49m\u001b[43m)\u001b[49m\n",
      "Cell \u001b[1;32mIn[12], line 15\u001b[0m, in \u001b[0;36mprocess_images\u001b[1;34m(input_folder, output_folders)\u001b[0m\n\u001b[0;32m     13\u001b[0m \u001b[38;5;28;01mfor\u001b[39;00m file_name \u001b[38;5;129;01min\u001b[39;00m image_files:\n\u001b[0;32m     14\u001b[0m     image_path \u001b[38;5;241m=\u001b[39m os\u001b[38;5;241m.\u001b[39mpath\u001b[38;5;241m.\u001b[39mjoin(input_folder, file_name)\n\u001b[1;32m---> 15\u001b[0m     cropped_faces \u001b[38;5;241m=\u001b[39m \u001b[43mdetect_and_crop_faces\u001b[49m\u001b[43m(\u001b[49m\u001b[43mimage_path\u001b[49m\u001b[43m,\u001b[49m\u001b[43m \u001b[49m\u001b[43mface_cascade\u001b[49m\u001b[43m)\u001b[49m\n\u001b[0;32m     17\u001b[0m     \u001b[38;5;66;03m# Determine output folder based on current counts\u001b[39;00m\n\u001b[0;32m     18\u001b[0m     folder_idx \u001b[38;5;241m=\u001b[39m folder_counters\u001b[38;5;241m.\u001b[39mindex(\u001b[38;5;28mmin\u001b[39m(folder_counters))\n",
      "Cell \u001b[1;32mIn[11], line 4\u001b[0m, in \u001b[0;36mdetect_and_crop_faces\u001b[1;34m(image_path, cascade)\u001b[0m\n\u001b[0;32m      2\u001b[0m \u001b[38;5;250m\u001b[39m\u001b[38;5;124;03m\"\"\" Detect faces in an image and return a list of cropped faces \"\"\"\u001b[39;00m\n\u001b[0;32m      3\u001b[0m img \u001b[38;5;241m=\u001b[39m cv2\u001b[38;5;241m.\u001b[39mimread(image_path, cv2\u001b[38;5;241m.\u001b[39mIMREAD_GRAYSCALE)\n\u001b[1;32m----> 4\u001b[0m faces \u001b[38;5;241m=\u001b[39m \u001b[43mcascade\u001b[49m\u001b[38;5;241;43m.\u001b[39;49m\u001b[43mdetectMultiScale\u001b[49m\u001b[43m(\u001b[49m\u001b[43mimg\u001b[49m\u001b[43m,\u001b[49m\u001b[43m \u001b[49m\u001b[43mscaleFactor\u001b[49m\u001b[38;5;241;43m=\u001b[39;49m\u001b[38;5;241;43m1.1\u001b[39;49m\u001b[43m,\u001b[49m\u001b[43m \u001b[49m\u001b[43mminNeighbors\u001b[49m\u001b[38;5;241;43m=\u001b[39;49m\u001b[38;5;241;43m4\u001b[39;49m\u001b[43m)\u001b[49m\n\u001b[0;32m      5\u001b[0m cropped_faces \u001b[38;5;241m=\u001b[39m [img[y:y\u001b[38;5;241m+\u001b[39mh, x:x\u001b[38;5;241m+\u001b[39mw] \u001b[38;5;28;01mfor\u001b[39;00m x, y, w, h \u001b[38;5;129;01min\u001b[39;00m faces]\n\u001b[0;32m      6\u001b[0m \u001b[38;5;28;01mreturn\u001b[39;00m cropped_faces\n",
      "\u001b[1;31mKeyboardInterrupt\u001b[0m: "
     ]
    }
   ],
   "source": [
    "input_folder = r\"D:\\Challenge\\grayscale_train\"\n",
    "output_folders = [f\"D:\\Challenge\\subset{i}\" for i in range(10)]\n",
    "\n",
    "process_images(input_folder, output_folders)"
   ]
  },
  {
   "cell_type": "code",
   "execution_count": null,
   "metadata": {},
   "outputs": [],
   "source": []
  }
 ],
 "metadata": {
  "kernelspec": {
   "display_name": "Python 3",
   "language": "python",
   "name": "python3"
  },
  "language_info": {
   "codemirror_mode": {
    "name": "ipython",
    "version": 3
   },
   "file_extension": ".py",
   "mimetype": "text/x-python",
   "name": "python",
   "nbconvert_exporter": "python",
   "pygments_lexer": "ipython3",
   "version": "3.11.3"
  }
 },
 "nbformat": 4,
 "nbformat_minor": 2
}
